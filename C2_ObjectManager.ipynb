{
 "cells": [
  {
   "cell_type": "markdown",
   "metadata": {},
   "source": [
    "## Everything is an Object\n",
    "- On *nix type operating systems, \"everything is a file\"; the OS exposes a set of programming calls that treat all the various parts of an operating system as though they were files. Network sockets, processes and threads, and areas of live memory are files with relative locations in a tree structure, that can be read from and written to, and have read and write permissions applied for certain users and groups\n",
    "- On Windows, **everything is an Object**. This means everything in the operating system is represented in memory as an object data structure, with properties and members, and methods that collectively provide an API to that operating system component\n",
    "- The _object manager_ is the component of the Windows NTOSKernel (or kernel for short) that managed these objects, their memory allocation, and lifetimes\n",
    "- The kernel maintains a list of _types_ of object it supports, which can be examined with the `Get-NtType` cmdlet"
   ]
  },
  {
   "cell_type": "code",
   "execution_count": 4,
   "metadata": {
    "dotnet_interactive": {
     "language": "pwsh"
    },
    "polyglot_notebook": {
     "kernelName": "pwsh"
    },
    "vscode": {
     "languageId": "polyglot-notebook"
    }
   },
   "outputs": [
    {
     "name": "stdout",
     "output_type": "stream",
     "text": [
      "\n",
      "\u001b[32;1mName\u001b[0m\n",
      "\u001b[32;1m----\u001b[0m\n",
      "Type\n",
      "Directory\n",
      "SymbolicLink\n",
      "Token\n",
      "Session\n",
      "Job\n",
      "Process\n",
      "Thread\n",
      "Partition\n",
      "UserApcReserve\n",
      "IoCompletionReserve\n",
      "ActivityReference\n",
      "ProcessStateChange\n",
      "ThreadStateChange\n",
      "CpuPartition\n",
      "SchedulerSharedData\n",
      "PsSiloContextPaged\n",
      "PsSiloContextNonPaged\n",
      "DebugObject\n",
      "Event\n",
      "\n"
     ]
    }
   ],
   "source": [
    "Get-NtType | Select -First 20"
   ]
  },
  {
   "cell_type": "markdown",
   "metadata": {},
   "source": [
    "## Object Manager Namespace\n",
    "- The Object Manager Namespace or OMNS for short, is a filesystem-like structure hidden in the background of the operating system\n",
    "- The OMNS is comprised of objects called _directories_, which act as containers for the active _instances_ of kernel objects as they exist in memory, and which can be interacted with like files in the directory \n",
    "- Its important to note that while the directory object in the OMNS _behaves_ like a file directory, it is not representative of an actual file directory\n",
    "- The [Windows driver docs state](https://learn.microsoft.com/en-us/windows-hardware/drivers/kernel/object-directories):\n",
    " \n",
    "    >Do not confuse object directories with file system directories. Object directories exist only within the object manager, and do not correspond to any directory on disk. File system directories are, in fact, represented as file objects\n",
    "- However, the `NtObjectManager` module contains a PSdrive provider, which abstracts the OMNS in such a way that it can be traversed as if it were a file system"
   ]
  },
  {
   "cell_type": "code",
   "execution_count": 5,
   "metadata": {
    "dotnet_interactive": {
     "language": "pwsh"
    },
    "polyglot_notebook": {
     "kernelName": "pwsh"
    },
    "vscode": {
     "languageId": "polyglot-notebook"
    }
   },
   "outputs": [
    {
     "name": "stdout",
     "output_type": "stream",
     "text": [
      "\n",
      "\u001b[32;1mName     : \u001b[0mUnionfsPort\n",
      "\u001b[32;1mTypeName : \u001b[0mFilterConnectionPort\n",
      "\n",
      "\u001b[32;1mName     : \u001b[0mPendingRenameMutex\n",
      "\u001b[32;1mTypeName : \u001b[0mMutant\n",
      "\n",
      "\u001b[32;1mName     : \u001b[0mObjectTypes\n",
      "\u001b[32;1mTypeName : \u001b[0mDirectory\n",
      "\n",
      "\u001b[32;1mName     : \u001b[0mstorqosfltport\n",
      "\u001b[32;1mTypeName : \u001b[0mFilterConnectionPort\n",
      "\n",
      "\u001b[32;1mName     : \u001b[0mMicrosoftMalwareProtectionRemoteIoPortWD\n",
      "\u001b[32;1mTypeName : \u001b[0mFilterConnectionPort\n",
      "\n",
      "\u001b[32;1mName     : \u001b[0mMicrosoftDataLossPreventionPort\n",
      "\u001b[32;1mTypeName : \u001b[0mFilterConnectionPort\n",
      "\n",
      "\u001b[32;1mName     : \u001b[0mSystemRoot\n",
      "\u001b[32;1mTypeName : \u001b[0mSymbolicLink\n",
      "\n",
      "\u001b[32;1mName     : \u001b[0mWin32kSiloSessionGlobals\n",
      "\u001b[32;1mTypeName : \u001b[0mSection\n",
      "\n",
      "\u001b[32;1mName     : \u001b[0mSessions\n",
      "\u001b[32;1mTypeName : \u001b[0mDirectory\n",
      "\n"
     ]
    }
   ],
   "source": [
    "Get-ChildItem NtObject:\\* | Select -Property Name, TypeName -First 9 | Format-List"
   ]
  },
  {
   "cell_type": "markdown",
   "metadata": {},
   "source": [
    "- Example of how the Symbolic Link type works (it contains a pointer to another object)"
   ]
  },
  {
   "cell_type": "code",
   "execution_count": 6,
   "metadata": {
    "dotnet_interactive": {
     "language": "pwsh"
    },
    "polyglot_notebook": {
     "kernelName": "pwsh"
    },
    "vscode": {
     "languageId": "polyglot-notebook"
    }
   },
   "outputs": [
    {
     "name": "stdout",
     "output_type": "stream",
     "text": [
      "\n",
      "\u001b[32;1mName\u001b[0m\u001b[32;1m TypeName    \u001b[0m\u001b[32;1m SymbolicLinkTarget\u001b[0m\n",
      "\u001b[32;1m----\u001b[0m \u001b[32;1m--------    \u001b[0m \u001b[32;1m------------------\u001b[0m\n",
      "Dfs  SymbolicLink \\Device\\DfsClient\n",
      "\n"
     ]
    }
   ],
   "source": [
    "Get-ChildItem NtObject:\\Dfs | Select -Property Name, TypeName, SymbolicLinkTarget"
   ]
  },
  {
   "cell_type": "markdown",
   "metadata": {},
   "source": [
    "- The users and groups that have access to an object is defined in the objects _security descriptor_"
   ]
  },
  {
   "cell_type": "code",
   "execution_count": 7,
   "metadata": {
    "dotnet_interactive": {
     "language": "pwsh"
    },
    "polyglot_notebook": {
     "kernelName": "pwsh"
    },
    "vscode": {
     "languageId": "polyglot-notebook"
    }
   },
   "outputs": [
    {
     "name": "stdout",
     "output_type": "stream",
     "text": [
      "\n",
      "\u001b[32;1mName     \u001b[0m\u001b[32;1m TypeName\u001b[0m\u001b[32;1m SecurityDescriptor\u001b[0m\n",
      "\u001b[32;1m----     \u001b[0m \u001b[32;1m--------\u001b[0m \u001b[32;1m------------------\u001b[0m\n",
      "DfsClient Device   O:BAG:SYD:(A;;FA;;;S-1-5-80-719998295-2833700043-1566817583-4093942769-14140263…\n",
      "\n"
     ]
    }
   ],
   "source": [
    "Get-Item NtObject:\\Device\\DfsClient | Select -Property Name, TypeName, SecurityDescriptor"
   ]
  },
  {
   "cell_type": "markdown",
   "metadata": {},
   "source": [
    "## System Calls\n",
    "- The _object manager_ is the kernel-level component that handles objects and mediates interaction with those objects\n",
    "- For a user space application to interact with a kernel object, the application needs to use the _system call interface_ \n",
    "- A system call is a function provided by one of the many DLLs that form the Windows subsystem; calling this function will call its kernel-mode equivilent and make a request to the object manager to access a specific kernel object\n",
    "- For example, certain PowerShell cmdlets use _native_ code i.e rely on the functionality exposed by the win32 subsystem DLLs, such as `Get-ChildItem`"
   ]
  },
  {
   "cell_type": "code",
   "execution_count": 8,
   "metadata": {
    "dotnet_interactive": {
     "language": "pwsh"
    },
    "polyglot_notebook": {
     "kernelName": "pwsh"
    },
    "vscode": {
     "languageId": "polyglot-notebook"
    }
   },
   "outputs": [
    {
     "name": "stdout",
     "output_type": "stream",
     "text": [
      "\n",
      "    Directory: C:\\\n",
      "\n",
      "\u001b[32;1mMode   \u001b[0m\u001b[32;1m              LastWriteTime\u001b[0m \u001b[32;1;3m        Length\u001b[0m\u001b[32;1m Name\u001b[0m\n",
      "\u001b[32;1m----   \u001b[0m \u001b[32;1m             -------------\u001b[0m \u001b[32;1m        ------\u001b[0m \u001b[32;1m----\u001b[0m\n",
      "d----            4/9/2025  5:00 PM                \u001b[44;1minetpub\u001b[0m\n",
      "d----           4/28/2024  1:43 PM                \u001b[44;1mIntel\u001b[0m\n",
      "d----            4/1/2024  8:26 AM                \u001b[44;1mPerfLogs\u001b[0m\n",
      "dar--            4/8/2025 11:06 PM                \u001b[44;1mProgram Files\u001b[0m\n",
      "d-r--            4/9/2025  5:00 PM                \u001b[44;1mProgram Files (x86)\u001b[0m\n",
      "d-r--           3/19/2025  4:27 PM                \u001b[44;1mUsers\u001b[0m\n",
      "d----            4/9/2025  5:00 PM                \u001b[44;1mWindows\u001b[0m\n",
      "-a---           2/22/2024 12:33 AM         112136 appverifUI.dll\n",
      "-a---           2/22/2024 12:34 AM          66328 vfcompat.dll\n",
      "\n"
     ]
    }
   ],
   "source": [
    "Get-ChildItem C:\\"
   ]
  },
  {
   "cell_type": "markdown",
   "metadata": {},
   "source": [
    "- Running this cmdlet will produce the following system calls (also just called _syscalls_). Below output was taken from **ProcMon**. \n",
    "- The process is showing as **dotnet.exe** because this notebook is being ran via the magic of the .NET interactive kernel:  \n",
    "\n",
    "![](./Images/C2_Syscalls.png)"
   ]
  },
  {
   "cell_type": "markdown",
   "metadata": {},
   "source": [
    "### What is the difference between user-space and kernel-space\n",
    "- The [MS driver docs](https://learn.microsoft.com/en-us/windows-hardware/drivers/gettingstarted/user-mode-and-kernel-mode) do a good job of explaining this:\n",
    "\n",
    "    >_\"A processor in a computer running Windows operates in two different modes: **user mode** and **kernel mode**. The processor switches between these modes depending on the type of code it's executing. Applications operate in **user mode**, while core operating system components function in **kernel mode**.\"_ \n",
    "\n",
    "- When a user-mode application wants to interact with the operating system, it does so via interacting with objects held in kernel-mode memory, which are managed by the system object manager.\n",
    "- Furthermore, an important thing to know is there is a distinct separation in how the code is mapped to the operating systems memory:  \n",
    "\n",
    "    >_\"When you launch an application in **user mode**, Windows creates a process for it. This process provides the application with a private virtual address space and a private handle table. Since each application's virtual address space is private, one application can't modify another application's data.\"_\n",
    "\n",
    "    >_\"All code running in **kernel mode** shares a single virtual address space. As a result, a kernel-mode driver isn't isolated from other drivers or the operating system. If a kernel-mode driver mistakenly writes to the wrong virtual address, it could compromise data belonging to the operating system or another driver. If a kernel-mode driver crashes, it causes the entire operating system to crash.\"_"
   ]
  },
  {
   "cell_type": "markdown",
   "metadata": {},
   "source": [
    "## Syscall Internals\n",
    "- One of the system calls used when `Get-ChildItem` executes is  **NtCreateFile**\n",
    "- Functions prefixed with **Nt** involve calls from userland applications into the kernel\n",
    "- The [documentation for this function](https://learn.microsoft.com/en-us/windows/win32/api/winternl/nf-winternl-ntcreatefile) describes it as doing the following:\n",
    "  \n",
    "  >Creates a new file or directory, or opens an existing file, device, directory, or volume.\n",
    "\n",
    "- The definition of **NtCreateFile** is as follows:\n",
    "```\n",
    "__kernel_entry NTSTATUS NtCreateFile(\n",
    "  [out]          PHANDLE            FileHandle,\n",
    "  [in]           ACCESS_MASK        DesiredAccess,\n",
    "  [in]           POBJECT_ATTRIBUTES ObjectAttributes,\n",
    "  [out]          PIO_STATUS_BLOCK   IoStatusBlock,\n",
    "  [in, optional] PLARGE_INTEGER     AllocationSize,\n",
    "  [in]           ULONG              FileAttributes,\n",
    "  [in]           ULONG              ShareAccess,\n",
    "  [in]           ULONG              CreateDisposition,\n",
    "  [in]           ULONG              CreateOptions,\n",
    "  [in]           PVOID              EaBuffer,\n",
    "  [in]           ULONG              EaLength\n",
    ");\n",
    "```\n",
    "\n",
    "- The 3rd parameter of the above signature is _ObjectAttributes_, which is a pointer to the following structure:\n",
    "```\n",
    "typedef struct _OBJECT_ATTRIBUTES {\n",
    "  ULONG           Length;\n",
    "  HANDLE          RootDirectory;\n",
    "  PUNICODE_STRING ObjectName;\n",
    "  ULONG           Attributes;\n",
    "  PVOID           SecurityDescriptor;\n",
    "  PVOID           SecurityQualityOfService;\n",
    "} OBJECT_ATTRIBUTES;\n",
    "```\n",
    "\n",
    "- The `RootDirectory` or `ObjectName` parameters need to be provided with the path to the file object to either create or open that object\n",
    "- `RootDirectory` is meant to contain the base container object that the intended file object resides in, while `ObjectName` it the name of the object itself, alternatively the full path to the object as it exists in the OMNS can be provided in the `ObjectName` and the call will still reach the correct object"
   ]
  },
  {
   "cell_type": "markdown",
   "metadata": {},
   "source": [
    "## NT Status Codes\n",
    "- System calls return a 32-bit status code referred to as the _NT Status Code_ \n",
    "- The most important bits in the NT Status code are the _severity_, the _facility_, and the _status code_ itself:\n",
    "    - The **status severity** tells us how significant the status is: indicating a success, being informational, a warning or an error\n",
    "    - The **facility** is the component or subsystem associated with the status code. For example, _default_ is a catch all facility value, while _NtWin32_ is the facility for status messages that originate specifically within the Win32 susbsystem DLLs\n",
    "    - The **status code** itself is a unique identifier within each facility that indicates the meaning of the status message\n",
    "- The cmdlets in the `NtObjectManager` module make syscalls directly, and the status code returned by the syscall is exposed as a .NET exception  "
   ]
  },
  {
   "cell_type": "code",
   "execution_count": 9,
   "metadata": {
    "dotnet_interactive": {
     "language": "pwsh"
    },
    "polyglot_notebook": {
     "kernelName": "pwsh"
    },
    "vscode": {
     "languageId": "polyglot-notebook"
    }
   },
   "outputs": [
    {
     "name": "stdout",
     "output_type": "stream",
     "text": [
      "\u001b[31;1mGet-NtDirectory: \u001b[31;1m(0xC0000034) - Object Name not found.\u001b[0m\r\n"
     ]
    },
    {
     "ename": "Error",
     "evalue": "(0xC0000034) - Object Name not found.",
     "output_type": "error",
     "traceback": [
      "(0xC0000034) - Object Name not found."
     ]
    }
   ],
   "source": [
    "Get-NtDirectory \\NONEXISTENT"
   ]
  },
  {
   "cell_type": "markdown",
   "metadata": {},
   "source": [
    "- The `Get-NtStatus` command can then be used to translate the error code returned by the failed `Get-NtDirectory` invocation, and provide human readable version of the status, including the severity, facility, and decimal status code \n",
    "- Other interesting fields are the customer code; if this status was created as part of a 3rd party application and not a Windows component, this would be set to **true**"
   ]
  },
  {
   "cell_type": "code",
   "execution_count": 10,
   "metadata": {
    "dotnet_interactive": {
     "language": "pwsh"
    },
    "polyglot_notebook": {
     "kernelName": "pwsh"
    },
    "vscode": {
     "languageId": "polyglot-notebook"
    }
   },
   "outputs": [
    {
     "name": "stdout",
     "output_type": "stream",
     "text": [
      "\n",
      "\u001b[32;1mStatusSigned : \u001b[0m-1073741772\n",
      "\u001b[32;1mStatusName   : \u001b[0mSTATUS_OBJECT_NAME_NOT_FOUND\n",
      "\u001b[32;1mMessage      : \u001b[0mObject Name not found.\n",
      "\u001b[32;1mCode         : \u001b[0m52\n",
      "\u001b[32;1mCustomerCode : \u001b[0mFalse\n",
      "\u001b[32;1mFacility     : \u001b[0mFACILITY_DEFAULT\n",
      "\u001b[32;1mSeverity     : \u001b[0mSTATUS_SEVERITY_ERROR\n",
      "\n"
     ]
    }
   ],
   "source": [
    "Get-NtStatus 0xC0000034 | Select -Property StatusSigned, StatusName, Message, Code, CustomerCode, Facility, Severity | Format-List"
   ]
  },
  {
   "cell_type": "markdown",
   "metadata": {},
   "source": [
    "## Handles\n",
    "- The object manager namespace is a kernel component, and therefore objects it manages are stored in kernel memory, and user space programs cannot access kernel memory directly\n",
    "- When user-space applications want to interact with an object, they must do so indirectly via a mechanism known as a _handle_\n",
    "- Each user-space process has a corresponding kernel-space _process object_, and contained in this process object is the processes _handle table_ \n",
    "- For each resource the process interacts with, the process handle table will contain an entry which includes a handle identifier, the type of object the handle points to, what rights the handle grants, and a pointer to the resource in kernel memory\n",
    "- As can be seen below, the handle table for each process can grow fairly large:"
   ]
  },
  {
   "cell_type": "code",
   "execution_count": 11,
   "metadata": {
    "dotnet_interactive": {
     "language": "pwsh"
    },
    "polyglot_notebook": {
     "kernelName": "pwsh"
    },
    "vscode": {
     "languageId": "polyglot-notebook"
    }
   },
   "outputs": [
    {
     "name": "stdout",
     "output_type": "stream",
     "text": [
      "\n",
      "\u001b[32;1mName  \u001b[0m\u001b[32;1m   Id\u001b[0m\u001b[32;1m Handles\u001b[0m\n",
      "\u001b[32;1m----  \u001b[0m \u001b[32;1m  --\u001b[0m \u001b[32;1m-------\u001b[0m\n",
      "dotnet 2208     282\n",
      "dotnet 4300     886\n",
      "dotnet 4448     574\n",
      "dotnet 6700     573\n",
      "\n"
     ]
    }
   ],
   "source": [
    "Get-Process dotnet | Select -Property Name, Id, Handles"
   ]
  },
  {
   "cell_type": "markdown",
   "metadata": {},
   "source": [
    "- When a user-space process requests, and is granted, access to a resource, the kernel will add an entry for that resource to the requesting processes handle table, and this entry can then be reused\n",
    "  - The process is said to then 'have a handle to that object'\n",
    "  - Child processes of this process may then inherit the handle table\n",
    "- Whenever the process makes performs a syscall that requires access to some resource, it will supply the handle identifier for the resource in question from its handle table, as a parameter to the syscall\n",
    "```\n",
    "__kernel_entry NTSTATUS NtCreateFile(\n",
    "  [out]          PHANDLE            FileHandle,\n",
    "  [in]           ACCESS_MASK        DesiredAccess,\n",
    "```\n",
    "- The first parameter called `FileHandle` with type `PHANDLE` (`PHANDLE` is just a typedef to `VOID`) is where the process passes the handle identifier \n",
    "- The privileges the process is requesting on the object is provided via the `DesiredAccess` parameter\n",
    "- The type of the `DesiredAccess` parameter is `ACCESS_MASK`, which is the same type that gets stored in the process handle table\n",
    "  - The _access mask_ is how the process defines the level of access it requires on the object, and also how the object defines the level of access a process should be allowed\n",
    "- The below output of `Get-NtHandle` shows the access granted via the handle and the handle type"
   ]
  },
  {
   "cell_type": "code",
   "execution_count": 17,
   "metadata": {
    "dotnet_interactive": {
     "language": "pwsh"
    },
    "polyglot_notebook": {
     "kernelName": "pwsh"
    },
    "vscode": {
     "languageId": "polyglot-notebook"
    }
   },
   "outputs": [
    {
     "name": "stdout",
     "output_type": "stream",
     "text": [
      "\n",
      "\u001b[32;1mProcessId\u001b[0m\u001b[32;1m Handle\u001b[0m\u001b[32;1m ObjectType          \u001b[0m\u001b[32;1m Object          \u001b[0m\u001b[32;1m GrantedAccess\u001b[0m\n",
      "\u001b[32;1m---------\u001b[0m \u001b[32;1m------\u001b[0m \u001b[32;1m----------          \u001b[0m \u001b[32;1m------          \u001b[0m \u001b[32;1m-------------\u001b[0m\n",
      "2208      4      File                 0000000000000000 0012019F\n",
      "2208      8      Event                0000000000000000 001F0003\n",
      "2208      12     Event                0000000000000000 001F0003\n",
      "2208      16     IRTimer              0000000000000000 00100002\n",
      "2208      20     TpWorkerFactory      0000000000000000 000F00FF\n",
      "2208      24     IoCompletion         0000000000000000 001F0003\n",
      "2208      28     WaitCompletionPacket 0000000000000000 00000001\n",
      "2208      32     IRTimer              0000000000000000 00100002\n",
      "2208      36     WaitCompletionPacket 0000000000000000 00000001\n",
      "2208      40     Event                0000000000000000 001F0003\n",
      "\n"
     ]
    }
   ],
   "source": [
    "Get-NtHandle -ProcessId $(Get-Process dotnet | Select -First 1).ID | Select -First 10 "
   ]
  },
  {
   "cell_type": "markdown",
   "metadata": {},
   "source": [
    "- As mentioned baove when a syscall is called, the syscall implementation takes the handle identifier passed to it, and convert this identifier to a kernel pointer\n",
    "- As part of this converion the syscall will also check that the access the process has requested for this operation matches the granted access as it is recorded in the handle table (if this check fails the error returned if STATUS_ACCESS_DENIED)\n",
    "- The syscall implementation also checks the handle type matches the resource type (if this fails the error returned is STATUS_OBJECT_TYPE_MISMATCH)"
   ]
  },
  {
   "cell_type": "code",
   "execution_count": null,
   "metadata": {
    "polyglot_notebook": {
     "kernelName": "pwsh"
    },
    "vscode": {
     "languageId": "polyglot-notebook"
    }
   },
   "outputs": [],
   "source": [
    "Get-NtAccessMask -FileAccess ReadData, WriteData, AppendData, ReadEa, WriteEa, ReadAttributes, WriteAttributes, ReadControl, Synchronize"
   ]
  },
  {
   "cell_type": "markdown",
   "metadata": {},
   "source": []
  }
 ],
 "metadata": {
  "kernelspec": {
   "display_name": ".NET (C#)",
   "language": "C#",
   "name": ".net-csharp"
  },
  "language_info": {
   "name": "python"
  },
  "polyglot_notebook": {
   "kernelInfo": {
    "defaultKernelName": "csharp",
    "items": [
     {
      "aliases": [],
      "name": "csharp"
     }
    ]
   }
  }
 },
 "nbformat": 4,
 "nbformat_minor": 2
}
