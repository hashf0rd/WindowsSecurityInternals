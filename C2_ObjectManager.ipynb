{
 "cells": [
  {
   "cell_type": "markdown",
   "metadata": {},
   "source": [
    "# Everything is an Object\n",
    "On *nix type operating systems, \"everything is a file\". Meaning the operating system exposes a set of programming calls that treat all the various parts of an operating system as though they were files. Network sockets, processes and threads, and areas of live memory are files with relative locations in a tree structure, that can be read from and written to, and have read and write permissions applied for certain users and groups.\n",
    "\n",
    "On Windows, everything is instead, an Object. This means everything is represented in memory as an object data structure, with properties and members, and methods that collectively provide an API to that operating system component.\n",
    "\n",
    "The **object manager** is the component of the Windows NTOSKernel (or kernel for short) that managed these objects, their memory allocation, and lifetimes.\n",
    "\n",
    "The kernel maintains a list of _types_ of object it supports, which can be examined with the `Get-NtType` cmdlet."
   ]
  },
  {
   "cell_type": "code",
   "execution_count": 2,
   "metadata": {
    "dotnet_interactive": {
     "language": "pwsh"
    },
    "polyglot_notebook": {
     "kernelName": "pwsh"
    },
    "vscode": {
     "languageId": "polyglot-notebook"
    }
   },
   "outputs": [
    {
     "name": "stdout",
     "output_type": "stream",
     "text": [
      "\n",
      "\u001b[32;1mName\u001b[0m\n",
      "\u001b[32;1m----\u001b[0m\n",
      "Type\n",
      "Directory\n",
      "SymbolicLink\n",
      "Token\n",
      "Job\n",
      "Process\n",
      "Thread\n",
      "Partition\n",
      "UserApcReserve\n",
      "IoCompletionReserve\n",
      "ActivityReference\n",
      "ProcessStateChange\n",
      "ThreadStateChange\n",
      "CpuPartition\n",
      "PsSiloContextPaged\n",
      "PsSiloContextNonPaged\n",
      "DebugObject\n",
      "Event\n",
      "Mutant\n",
      "Callback\n",
      "\n"
     ]
    }
   ],
   "source": [
    "Get-NtType | Select -First 20"
   ]
  },
  {
   "cell_type": "markdown",
   "metadata": {},
   "source": [
    "# Object Manager Namespace\n",
    "The Object Manager Namespace or OMNS for short, is a filesystem like structure hidden in the background of the operating system. Calling it filesystem like is not just descrptive - its literally made out of `Directory` type objects, and can be interacted with like a disc backed filesystem. The directory objects contain instances of kernel objects as they exist in memory, which can be interacted with like files in the directory.\n",
    "\n",
    "The `NtObjectManager` module contains a PSdrive provider so we can use PowerShell to traverse the OMNS like any other drive."
   ]
  },
  {
   "cell_type": "code",
   "execution_count": 18,
   "metadata": {
    "dotnet_interactive": {
     "language": "pwsh"
    },
    "polyglot_notebook": {
     "kernelName": "pwsh"
    },
    "vscode": {
     "languageId": "polyglot-notebook"
    }
   },
   "outputs": [
    {
     "name": "stdout",
     "output_type": "stream",
     "text": [
      "\n",
      "\u001b[32;1mName\u001b[0m\n",
      "\u001b[32;1m----                                                                                               \u001b[0m\n",
      "ArcName                                                                                            \n",
      "BaseNamedObjects                                                                                   \n",
      "BindFltPort                                                                                        \n",
      "Callback                                                                                           \n",
      "CLDMSGPORT                                                                                         \n",
      "clfs                                                                                               \n",
      "Container_Microsoft.WidgetsPlatformRuntime_1.6.1.0_x64__8wekyb3d8bbwe-S-1-5-21-2776884319-30901428…\n",
      "Container_Microsoft.YourPhone_1.24121.85.0_x64__8wekyb3d8bbwe-S-1-5-21-2776884319-3090142823-33783…\n",
      "Container_MicrosoftWindows.Client.WebExperience_524.34401.20.0_x64__cw5n1h2txyewy-S-1-5-21-2776884…\n",
      "CsrSbSyncEvent                                                                                     \n",
      "Device                                                                                             \n",
      "Dfs                                                                                                \n",
      "DosDevices                                                                                         \n",
      "Driver                                                                                             \n",
      "DriverData                                                                                         \n",
      "DriverStore                                                                                        \n",
      "DriverStores                                                                                       \n",
      "DSYSDBG.Debug.Trace.Memory.200                                                                     \n",
      "EFSInitEvent                                                                                       \n",
      "Fat                                                                                                \n",
      "FatCdrom                                                                                           \n",
      "FileSystem                                                                                         \n",
      "GLOBAL??                                                                                           \n",
      "KernelObjects                                                                                      \n",
      "KnownDlls                                                                                          \n",
      "KnownDlls32                                                                                        \n",
      "LanmanServerAnnounceEvent                                                                          \n",
      "LSA_ISO_READY                                                                                      \n",
      "MicrosoftDataLossPreventionAsyncPort                                                               \n",
      "MicrosoftDataLossPreventionControlPort                                                             \n",
      "MicrosoftDataLossPreventionPort                                                                    \n",
      "MicrosoftDataLossPreventionRemoteIoPort                                                            \n",
      "MicrosoftDataLossPreventionVeryLowIoPort                                                           \n",
      "MicrosoftMalwareProtectionAsyncPortWD                                                              \n",
      "MicrosoftMalwareProtectionControlPortWD                                                            \n",
      "MicrosoftMalwareProtectionPortWD                                                                   \n",
      "MicrosoftMalwareProtectionRemoteIoPortWD                                                           \n",
      "MicrosoftMalwareProtectionVeryLowIoPortWD                                                          \n",
      "NLS                                                                                                \n",
      "Ntfs                                                                                               \n",
      "ObjectTypes                                                                                        \n",
      "OSDataRoot                                                                                         \n",
      "PdcPort                                                                                            \n",
      "PendingRenameMutex                                                                                 \n",
      "PowerMonitorPort                                                                                   \n",
      "PowerPort                                                                                          \n",
      "REGISTRY                                                                                           \n",
      "RPC Control                                                                                        \n",
      "SAM_SERVICE_STARTED                                                                                \n",
      "Security                                                                                           \n",
      "SeLsaCommandPort                                                                                   \n",
      "SeRmCommandPort                                                                                    \n",
      "Sessions                                                                                           \n",
      "SleepstudyControlPort                                                                              \n",
      "SmApiPort                                                                                          \n",
      "SmSsWinStationApiPort                                                                              \n",
      "storqosfltport                                                                                     \n",
      "SystemRoot                                                                                         \n",
      "ThemeApiPort                                                                                       \n",
      "UMDFCommunicationPorts                                                                             \n",
      "UniqueInteractiveSessionIdEvent                                                                    \n",
      "WcifsPort                                                                                          \n",
      "Win32kCrossSessionGlobals                                                                          \n",
      "Windows                                                                                            \n",
      "\n"
     ]
    }
   ],
   "source": [
    "Get-ChildItem NtObject:\\ | Sort Name"
   ]
  },
  {
   "cell_type": "code",
   "execution_count": 24,
   "metadata": {
    "dotnet_interactive": {
     "language": "pwsh"
    },
    "polyglot_notebook": {
     "kernelName": "pwsh"
    },
    "vscode": {
     "languageId": "polyglot-notebook"
    }
   },
   "outputs": [
    {
     "name": "stdout",
     "output_type": "stream",
     "text": [
      "\n",
      "\u001b[32;1mPSPath               : \u001b[0mNtObjectManager\\NtObjectManager::nt:\\Dfs\n",
      "\u001b[32;1mPSParentPath         : \u001b[0mNtObjectManager\\NtObjectManager::nt:\n",
      "\u001b[32;1mPSChildName          : \u001b[0mDfs\n",
      "\u001b[32;1mPSDrive              : \u001b[0mNtObject\n",
      "\u001b[32;1mPSProvider           : \u001b[0mNtObjectManager\\NtObjectManager\n",
      "\u001b[32;1mPSIsContainer        : \u001b[0mFalse\n",
      "\u001b[32;1mName                 : \u001b[0mDfs\n",
      "\u001b[32;1mTypeName             : \u001b[0mSymbolicLink\n",
      "\u001b[32;1mIsDirectory          : \u001b[0mFalse\n",
      "\u001b[32;1mIsDevice             : \u001b[0mFalse\n",
      "\u001b[32;1mIsSymbolicLink       : \u001b[0mTrue\n",
      "\u001b[32;1mRelativePath         : \u001b[0mDfs\n",
      "\u001b[32;1mSecurityDescriptor   : \u001b[0mO:BAG:SYD:(A;;CCRC;;;WD)(A;;CCSDRCWDWO;;;SY)(A;;CCSDRCWDWO;;;BA)(A;;CCRC;;;R\n",
      "                       C)\n",
      "\u001b[32;1mSymbolicLinkTarget   : \u001b[0m\\Device\\DfsClient\n",
      "\u001b[32;1mMaximumGrantedAccess : \u001b[0mQuery, ReadControl\n",
      "\u001b[32;1mDeviceType           : \u001b[0mUNKNOWN\n",
      "\u001b[32;1mCharacteristics      : \u001b[0mNone\n",
      "\n"
     ]
    }
   ],
   "source": [
    "Get-ChildItem NtObject:\\Dfs | Select -Property *"
   ]
  },
  {
   "cell_type": "code",
   "execution_count": 26,
   "metadata": {
    "dotnet_interactive": {
     "language": "pwsh"
    },
    "polyglot_notebook": {
     "kernelName": "pwsh"
    },
    "vscode": {
     "languageId": "polyglot-notebook"
    }
   },
   "outputs": [
    {
     "name": "stdout",
     "output_type": "stream",
     "text": [
      "\n",
      "\u001b[32;1mPSPath               : \u001b[0mNtObjectManager\\NtObjectManager::nt:\\Device\\DfsClient\n",
      "\u001b[32;1mPSParentPath         : \u001b[0mNtObjectManager\\NtObjectManager::nt:\\Device\n",
      "\u001b[32;1mPSChildName          : \u001b[0mDfsClient\n",
      "\u001b[32;1mPSDrive              : \u001b[0mNtObject\n",
      "\u001b[32;1mPSProvider           : \u001b[0mNtObjectManager\\NtObjectManager\n",
      "\u001b[32;1mPSIsContainer        : \u001b[0mFalse\n",
      "\u001b[32;1mName                 : \u001b[0mDfsClient\n",
      "\u001b[32;1mTypeName             : \u001b[0mDevice\n",
      "\u001b[32;1mIsDirectory          : \u001b[0mFalse\n",
      "\u001b[32;1mIsDevice             : \u001b[0mTrue\n",
      "\u001b[32;1mIsSymbolicLink       : \u001b[0mFalse\n",
      "\u001b[32;1mRelativePath         : \u001b[0mDevice\\DfsClient\n",
      "\u001b[32;1mSecurityDescriptor   : \u001b[0mO:BAG:SYD:(A;;FA;;;S-1-5-80-719998295-2833700043-1566817583-4093942769-14140\n",
      "                       26312)(A;;FA;;;SY)(A;;FA;;;BA)(A;;FX;;;WD)\n",
      "\u001b[32;1mSymbolicLinkTarget   : \u001b[0m\n",
      "\u001b[32;1mMaximumGrantedAccess : \u001b[0mExecute, ReadAttributes, ReadControl, Synchronize\n",
      "\u001b[32;1mDeviceType           : \u001b[0mDISK_FILE_SYSTEM\n",
      "\u001b[32;1mCharacteristics      : \u001b[0mRemoteDevice, SecureOpen\n",
      "\n"
     ]
    }
   ],
   "source": [
    "Get-Item NtObject:\\Device\\DfsClient | Select -Property *"
   ]
  }
 ],
 "metadata": {
  "kernelspec": {
   "display_name": ".NET (C#)",
   "language": "C#",
   "name": ".net-csharp"
  },
  "language_info": {
   "name": "python"
  },
  "polyglot_notebook": {
   "kernelInfo": {
    "defaultKernelName": "csharp",
    "items": [
     {
      "aliases": [],
      "name": "csharp"
     }
    ]
   }
  }
 },
 "nbformat": 4,
 "nbformat_minor": 2
}
